{
 "cells": [
  {
   "cell_type": "code",
   "execution_count": 18,
   "metadata": {},
   "outputs": [
    {
     "data": {
      "text/plain": [
       "-1"
      ]
     },
     "execution_count": 18,
     "metadata": {},
     "output_type": "execute_result"
    }
   ],
   "source": [
    "import dlib\n",
    "import cv2\n",
    "\n",
    "detector = dlib.get_frontal_face_detector()\n",
    "predictor = dlib.shape_predictor('C:\\\\Users\\\\CHENTIEJUN\\\\Desktop\\\\dlib\\\\shape_predictor_68_face_landmarks.dat')\n",
    "\n",
    "imagePath = 'C:\\\\Users\\\\CHENTIEJUN\\\\Desktop\\\\dlib\\\\1.jpg'\n",
    "\n",
    "img = cv2.imread(imagePath)\n",
    "\n",
    "dets = detector(img,1)\n",
    "\n",
    "for i,face in enumerate(dets):\n",
    "    y1 = face.top()\n",
    "    y2 = face.bottom()\n",
    "    x1 = face.left()\n",
    "    x2 = face.right()\n",
    "    \n",
    "    cv2.rectangle(img,(x1,y1),(x2,y2),(0,255,0),2)\n",
    "    \n",
    "    shape = predictor(img,face)\n",
    "    for pt in shape.parts():\n",
    "        pt_pos = (pt.x,pt.y)\n",
    "        cv2.circle(img,pt_pos,1,(0,255,0),2)\n",
    "    cv2.imshow('image',img)\n",
    "    cv2.imwrite('C:\\\\Users\\\\CHENTIEJUN\\\\Desktop\\\\dlib\\\\1_result.jpg',img)\n",
    "cv2.waitKey(0)"
   ]
  },
  {
   "cell_type": "code",
   "execution_count": 23,
   "metadata": {},
   "outputs": [
    {
     "data": {
      "text/plain": [
       "-1"
      ]
     },
     "execution_count": 23,
     "metadata": {},
     "output_type": "execute_result"
    }
   ],
   "source": [
    "import dlib\n",
    "import cv2\n",
    "\n",
    "detector = dlib.get_frontal_face_detector()\n",
    "predictor = dlib.shape_predictor('C:\\\\Users\\\\CHENTIEJUN\\\\Desktop\\\\dlib\\\\shape_predictor_68_face_landmarks.dat')\n",
    "\n",
    "imagePath = 'C:\\\\Users\\\\CHENTIEJUN\\\\Desktop\\\\dlib\\\\1.jpg'\n",
    "\n",
    "img = cv2.imread(imagePath)\n",
    "\n",
    "dets = detector(img,1)\n",
    "\n",
    "for i,face in enumerate(dets):\n",
    "    y1 = face.top()\n",
    "    y2 = face.bottom()\n",
    "    x1 = face.left()\n",
    "    x2 = face.right()\n",
    "    #cv2.rectangle(img,(x1,y1),(x2,y2),(0,255,0),2)\n",
    "    image = img[y1:y2,x1:x2]\n",
    "    cv2.imshow('image',image)\n",
    "    cv2.imwrite('C:\\\\Users\\\\CHENTIEJUN\\\\Desktop\\\\dlib\\\\'+str(i)+'_result.jpg',image)\n",
    "cv2.waitKey(0)"
   ]
  },
  {
   "cell_type": "code",
   "execution_count": 28,
   "metadata": {},
   "outputs": [
    {
     "ename": "error",
     "evalue": "OpenCV(4.3.0) C:\\projects\\opencv-python\\opencv\\modules\\imgcodecs\\src\\loadsave.cpp:738: error: (-215:Assertion failed) !_img.empty() in function 'cv::imwrite'\n",
     "output_type": "error",
     "traceback": [
      "\u001b[1;31m---------------------------------------------------------------------------\u001b[0m",
      "\u001b[1;31merror\u001b[0m                                     Traceback (most recent call last)",
      "\u001b[1;32m<ipython-input-28-8bbaf0927231>\u001b[0m in \u001b[0;36m<module>\u001b[1;34m\u001b[0m\n\u001b[0;32m     28\u001b[0m     \u001b[0mimg\u001b[0m \u001b[1;33m=\u001b[0m \u001b[0mimage\u001b[0m\u001b[1;33m[\u001b[0m\u001b[0my1\u001b[0m\u001b[1;33m:\u001b[0m\u001b[0my2\u001b[0m\u001b[1;33m,\u001b[0m\u001b[0mx1\u001b[0m\u001b[1;33m:\u001b[0m\u001b[0mx2\u001b[0m\u001b[1;33m]\u001b[0m\u001b[1;33m\u001b[0m\u001b[1;33m\u001b[0m\u001b[0m\n\u001b[0;32m     29\u001b[0m     \u001b[0mpath1\u001b[0m \u001b[1;33m=\u001b[0m \u001b[0mos\u001b[0m\u001b[1;33m.\u001b[0m\u001b[0mpath\u001b[0m\u001b[1;33m.\u001b[0m\u001b[0mjoin\u001b[0m\u001b[1;33m(\u001b[0m\u001b[0moutPath\u001b[0m\u001b[1;33m,\u001b[0m\u001b[0mfilename\u001b[0m\u001b[1;33m)\u001b[0m\u001b[1;33m\u001b[0m\u001b[1;33m\u001b[0m\u001b[0m\n\u001b[1;32m---> 30\u001b[1;33m     \u001b[0mcv2\u001b[0m\u001b[1;33m.\u001b[0m\u001b[0mimwrite\u001b[0m\u001b[1;33m(\u001b[0m\u001b[0mpath1\u001b[0m\u001b[1;33m,\u001b[0m\u001b[0mimg\u001b[0m\u001b[1;33m)\u001b[0m\u001b[1;33m\u001b[0m\u001b[1;33m\u001b[0m\u001b[0m\n\u001b[0m",
      "\u001b[1;31merror\u001b[0m: OpenCV(4.3.0) C:\\projects\\opencv-python\\opencv\\modules\\imgcodecs\\src\\loadsave.cpp:738: error: (-215:Assertion failed) !_img.empty() in function 'cv::imwrite'\n"
     ]
    }
   ],
   "source": [
    "import dlib\n",
    "import cv2\n",
    "import os\n",
    "\n",
    "detector = dlib.get_frontal_face_detector()\n",
    "predictor = dlib.shape_predictor('C:\\\\Users\\\\CHENTIEJUN\\\\Desktop\\\\dlib\\\\shape_predictor_68_face_landmarks.dat')\n",
    "\n",
    "path = 'E:\\\\KDEF\\\\KDEF_fullFace\\\\KDEF_A'\n",
    "sub_path = os.path.join(path,'happy')\n",
    "\n",
    "outPath = 'C:\\\\Users\\\\CHENTIEJUN\\\\Desktop\\\\testData'\n",
    "dirs = os.listdir(sub_path)\n",
    "\n",
    "for i,filename in enumerate(dirs):\n",
    "    imgPath = os.path.join(sub_path,filename)\n",
    "    image = cv2.imread(imgPath)\n",
    "    \n",
    "    try:\n",
    "        dets = detector(image,1)\n",
    "        y1 = dets[0].top()\n",
    "        y2 = dets[0].bottom()\n",
    "        x1 = dets[0].left()\n",
    "        x2 = dets[0].right()\n",
    "    \n",
    "    except:\n",
    "        continue\n",
    "\n",
    "    img = image[y1:y2,x1:x2]\n",
    "    path1 = os.path.join(outPath,filename)\n",
    "    cv2.imwrite(path1,img)"
   ]
  }
 ],
 "metadata": {
  "kernelspec": {
   "display_name": "Python 3",
   "language": "python",
   "name": "python3"
  },
  "language_info": {
   "codemirror_mode": {
    "name": "ipython",
    "version": 3
   },
   "file_extension": ".py",
   "mimetype": "text/x-python",
   "name": "python",
   "nbconvert_exporter": "python",
   "pygments_lexer": "ipython3",
   "version": "3.7.7"
  }
 },
 "nbformat": 4,
 "nbformat_minor": 4
}
