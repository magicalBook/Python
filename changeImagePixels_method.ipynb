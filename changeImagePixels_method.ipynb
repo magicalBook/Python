{
 "cells": [
  {
   "cell_type": "code",
   "execution_count": 2,
   "metadata": {},
   "outputs": [],
   "source": [
    "#change image pixels\n",
    "\n",
    "import cv2\n",
    "import numpy as np\n",
    "from PIL import Image\n",
    "import os\n",
    "import glob\n",
    "\n",
    "base_dir = 'E:\\\\RGB_dataset'\n",
    "train_dir = os.path.join(base_dir,'train')\n",
    "val_dir = os.path.join(base_dir,'validation')\n",
    "test_dir = os.path.join(base_dir,'test')\n",
    "\n",
    "train_emotion = os.listdir(train_dir)\n",
    "\n",
    "# img = cv2.imread('C:/Users/CHENTIEJUN/Desktop/datas/training/angry/TM.AN1.190.tiff')\n",
    "# pil_image = Image.fromarray(cv2.cvtColor(img, cv2.COLOR_BGR2RGB))\n",
    "# pil_image.show()\n",
    "\n",
    "for em in train_emotion:\n",
    "    train_path = os.path.join(train_dir,em)\n",
    "    val_path = os.path.join(val_dir,em)\n",
    "    test_path = os.path.join(test_dir,em)\n",
    "    \n",
    "    train_imgpath = glob.glob(train_path+'/*')\n",
    "    val_imgpath = glob.glob(val_path+'/*')\n",
    "    test_imgpath = glob.glob(test_path+'/*')\n",
    "    \n",
    "    for path in train_imgpath:\n",
    "        img = Image.fromarray(cv2.cvtColor(cv2.imread(path), cv2.COLOR_BGR2RGB))\n",
    "        \n",
    "        try:\n",
    "            img = img.resize((150,200), Image.ANTIALIAS)\n",
    "            img.save(path)\n",
    "        except:\n",
    "            continue\n",
    "        \n",
    "    for path in val_imgpath:\n",
    "        img = Image.fromarray(cv2.cvtColor(cv2.imread(path), cv2.COLOR_BGR2RGB))\n",
    "        \n",
    "        try:\n",
    "            img = img.resize((150,200), Image.ANTIALIAS)\n",
    "            img.save(path)\n",
    "        except:\n",
    "            continue\n",
    "\n",
    "    for path in test_imgpath:\n",
    "        img = Image.fromarray(cv2.cvtColor(cv2.imread(path), cv2.COLOR_BGR2RGB))\n",
    "        \n",
    "        try:\n",
    "            img = img.resize((150,200), Image.ANTIALIAS)\n",
    "            img.save(path)\n",
    "        except:\n",
    "            continue"
   ]
  }
 ],
 "metadata": {
  "kernelspec": {
   "display_name": "Python 3",
   "language": "python",
   "name": "python3"
  },
  "language_info": {
   "codemirror_mode": {
    "name": "ipython",
    "version": 3
   },
   "file_extension": ".py",
   "mimetype": "text/x-python",
   "name": "python",
   "nbconvert_exporter": "python",
   "pygments_lexer": "ipython3",
   "version": "3.7.9"
  }
 },
 "nbformat": 4,
 "nbformat_minor": 4
}
